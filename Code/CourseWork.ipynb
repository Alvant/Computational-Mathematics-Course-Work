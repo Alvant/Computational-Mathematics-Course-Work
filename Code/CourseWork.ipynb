{
 "cells": [
  {
   "cell_type": "code",
   "execution_count": 1,
   "metadata": {
    "collapsed": true
   },
   "outputs": [],
   "source": [
    "%matplotlib inline\n",
    "\n",
    "import sys, os, glob\n",
    "\n",
    "import numpy as np\n",
    "from numpy.linalg import norm\n",
    "\n",
    "import scipy as sp\n",
    "from scipy import stats\n",
    "from scipy.misc import comb\n",
    "\n",
    "from math import floor, ceil, log\n",
    "import statistics as stat\n",
    "\n",
    "import matplotlib.pyplot as plt\n",
    "\n",
    "import codecs, re\n",
    "\n",
    "from sympy import *"
   ]
  },
  {
   "cell_type": "code",
   "execution_count": 369,
   "metadata": {
    "collapsed": true
   },
   "outputs": [],
   "source": [
    "# Папка для сохранения графиков\n",
    "images_folder = '../CourseWork/images/'"
   ]
  },
  {
   "cell_type": "code",
   "execution_count": 370,
   "metadata": {
    "collapsed": true
   },
   "outputs": [],
   "source": [
    "# Число Куранта, шаги по пространству-времени\n",
    "cour = S('0.9')\n",
    "h    = S('0.025')\n",
    "dt   = cour * h\n",
    "\n",
    "# Отрезок [0, L], считаем до времени T\n",
    "L = 2.0\n",
    "T = 1.4\n",
    "\n",
    "# На сколько отрезков разбиваются промежутки [0, L] и [0, T]\n",
    "M = int(L / h)\n",
    "N = int(T / dt)"
   ]
  },
  {
   "cell_type": "code",
   "execution_count": 371,
   "metadata": {
    "collapsed": true
   },
   "outputs": [],
   "source": [
    "# Моменты времени, по которым планируется строить графики\n",
    "# В случае неустойчивиго поведения или по каким-нибудь другим причинам\n",
    "# список, конечно, можно изменять\n",
    "time_moments = np.array([0, 1, 2, 3, 4, 5, 6]) * 0.2\n",
    "\n",
    "# Три момента времени - для чёрно-белого графика\n",
    "time_moments_reduced = np.array([0, 3, 6]) * 0.2"
   ]
  },
  {
   "cell_type": "code",
   "execution_count": 372,
   "metadata": {
    "collapsed": true
   },
   "outputs": [],
   "source": [
    "z = Symbol('z')"
   ]
  },
  {
   "cell_type": "code",
   "execution_count": 373,
   "metadata": {
    "collapsed": false
   },
   "outputs": [],
   "source": [
    "# Исследуемые функции\n",
    "f1 = 1 - z\n",
    "f2 = z"
   ]
  },
  {
   "cell_type": "code",
   "execution_count": 374,
   "metadata": {
    "collapsed": true
   },
   "outputs": [],
   "source": [
    "# Красный цвет\n",
    "col1 = (255/255.0, 0/255.0, 0/255.0)"
   ]
  },
  {
   "cell_type": "code",
   "execution_count": 375,
   "metadata": {
    "collapsed": true
   },
   "outputs": [],
   "source": [
    "# Толщина линий, размер шрифта (для графиков)\n",
    "fsz_tick = 36\n",
    "fsz_legend = 34\n",
    "fsz_label = 38\n",
    "lw = 5\n",
    "ms = 10"
   ]
  },
  {
   "cell_type": "code",
   "execution_count": 376,
   "metadata": {
    "collapsed": false
   },
   "outputs": [],
   "source": [
    "# Функция для построения графиков (количество моментов времени ограничено,\n",
    "# макс примерно 255 / 30 ~ 8, потому что раскрашиваются)\n",
    "def generate_plot(grid, name=None):\n",
    "    fig = plt.figure(figsize=(25,15))\n",
    "\n",
    "    start_color = list(col1)\n",
    "    x = h * np.array(range(M+1))\n",
    "\n",
    "    for i, tm in enumerate(time_moments):\n",
    "        col = list(start_color)\n",
    "        col[0] = (col[0]*255 - i*30) / 255.0\n",
    "        col[2] = (col[2]*255 + i*10) / 255.0\n",
    "        col = tuple(col)\n",
    "\n",
    "        y = grid[int(tm / dt)]\n",
    "\n",
    "        # plotting\n",
    "        plt.plot(x, y, '-o', color=col, linewidth=lw, markersize=ms,\n",
    "                label='t={0:.2f}'.format(tm))\n",
    "\n",
    "    plt.xlabel('x', fontsize=fsz_label, fontname='Times New Roman', labelpad=20)\n",
    "    plt.ylabel('u', fontsize=fsz_label, fontname='Times New Roman', labelpad=20)\n",
    "    plt.xticks(fontsize=fsz_tick, fontname='Times New Roman')\n",
    "    plt.yticks(fontsize=fsz_tick, fontname='Times New Roman')\n",
    "    plt.legend(loc='best', fontsize=fsz_legend)\n",
    "    plt.grid(True)\n",
    "\n",
    "    plt.axis('tight')\n",
    "    \n",
    "    if (name is not None):\n",
    "        fig.savefig(os.path.join(images_folder, name),\n",
    "                    format='eps', bbox_inches='tight')"
   ]
  },
  {
   "cell_type": "code",
   "execution_count": 377,
   "metadata": {
    "collapsed": true
   },
   "outputs": [],
   "source": [
    "# Чёрно-белый график по трём моментам времени\n",
    "def generate_plot_black_white(grid, name=None):\n",
    "    fig = plt.figure(figsize=(25,15))\n",
    "    \n",
    "    linestyles = [':', '--', '-']\n",
    "    x = h * np.array(range(M+1))\n",
    "\n",
    "    for i, tm in enumerate(time_moments_reduced):\n",
    "        y = grid[int(tm / dt)]\n",
    "\n",
    "        # plotting\n",
    "        plt.plot(x, y, linestyles[i] + 'o',\n",
    "                 color='black', linewidth=lw,\n",
    "                 markersize=ms,\n",
    "                 label='t={0:.2f}'.format(tm))\n",
    "\n",
    "    plt.xlabel('x', fontsize=fsz_label, fontname='Times New Roman', labelpad=20)\n",
    "    plt.ylabel('u', fontsize=fsz_label, fontname='Times New Roman', labelpad=20)\n",
    "    plt.xticks(fontsize=fsz_tick, fontname='Times New Roman')\n",
    "    plt.yticks(fontsize=fsz_tick, fontname='Times New Roman')\n",
    "    plt.legend(loc='best', fontsize=fsz_legend)\n",
    "    plt.grid(True)\n",
    "\n",
    "    plt.axis('tight')\n",
    "\n",
    "    if (name is not None):\n",
    "        fig.savefig(os.path.join(images_folder, name),\n",
    "                    format='eps', bbox_inches='tight')"
   ]
  },
  {
   "cell_type": "code",
   "execution_count": 378,
   "metadata": {
    "collapsed": true
   },
   "outputs": [],
   "source": [
    "# Инициализация сетки\n",
    "def grid_init(f, h, dt):\n",
    "    grid = {t: np.array([0.0 for i in range(M+1)])\n",
    "            for t in range(N+1)}\n",
    "    \n",
    "    # u(0, x)\n",
    "    grid[0] = np.array([f.subs(z, i*h) for i in range(M+1)])\n",
    "    \n",
    "    # u(t, 0)\n",
    "    for t in grid:\n",
    "        grid[t][0] = f.subs(z, 0)\n",
    "    \n",
    "    return grid"
   ]
  },
  {
   "cell_type": "code",
   "execution_count": 379,
   "metadata": {
    "collapsed": true
   },
   "outputs": [],
   "source": [
    "# Обновление последней, M-ой, координаты на слое n\n",
    "def outer_update(grid, n, h, dt):\n",
    "    if (n >= N):\n",
    "        return grid\n",
    "    \n",
    "    # grid[n][M]\n",
    "    grid[n][M] = (\n",
    "        grid[n-1][M] - dt / h * (grid[n-1][M]**2   / 2 - \n",
    "                                     grid[n-1][M-1]**2 / 2)\n",
    "    )\n",
    "    \n",
    "    return grid"
   ]
  },
  {
   "cell_type": "code",
   "execution_count": 380,
   "metadata": {
    "collapsed": true
   },
   "outputs": [],
   "source": [
    "# Далее - серия функций-методов обновлений внутренних точек сетки"
   ]
  },
  {
   "cell_type": "code",
   "execution_count": 381,
   "metadata": {
    "collapsed": true
   },
   "outputs": [],
   "source": [
    "def inner_update_silly(grid, n, h, dt):\n",
    "    if (n >= N):\n",
    "        return grid\n",
    "    \n",
    "    grid[n][1:M-1+1] = (\n",
    "        grid[n-2][1:M-1+1] - dt / h * grid[n-1][1:M-1+1] * \n",
    "          (grid[n-1][2:(M+1)] - grid[n-1][0:(M-2+1)])\n",
    "    )\n",
    "    \n",
    "    return grid"
   ]
  },
  {
   "cell_type": "code",
   "execution_count": 382,
   "metadata": {
    "collapsed": true
   },
   "outputs": [],
   "source": [
    "def inner_update_lax(grid, n, h, dt):\n",
    "    if (n >= N):\n",
    "        return grid\n",
    "    \n",
    "    grid[n][1:M-1+1] = (\n",
    "        0.5 * (grid[n-1][2:M+1] + grid[n-1][0:M-2+1]) - \n",
    "        dt / 2 / h * (grid[n-1][2:M+1]**2 / 2 -\n",
    "                      grid[n-1][0:M-2+1]**2 / 2)\n",
    "    )\n",
    "    \n",
    "    return grid"
   ]
  },
  {
   "cell_type": "code",
   "execution_count": 383,
   "metadata": {
    "collapsed": true
   },
   "outputs": [],
   "source": [
    "def inner_update_cir(grid, n, h, dt):\n",
    "    if (n >= N):\n",
    "        return grid\n",
    "    \n",
    "    u = grid[n-1][1:M-1+1]\n",
    "    \n",
    "    grid[n][1:M-1+1] = (\n",
    "      u - dt / h * (\n",
    "        1 * (u <  0) * (grid[n-1][2:M+1]**2 / 2 - grid[n-1][1:M-1+1]**2 / 2) +\n",
    "        1 * (u >= 0) * (grid[n-1][1:M-1+1]**2 / 2 - grid[n-1][0:M-2+1]**2 / 2)\n",
    "      )\n",
    "    )\n",
    "    \n",
    "    return grid"
   ]
  },
  {
   "cell_type": "code",
   "execution_count": 384,
   "metadata": {
    "collapsed": true
   },
   "outputs": [],
   "source": [
    "def inner_update_lax_vendroff(grid, n, h, dt):\n",
    "    if (n >= N):\n",
    "        return grid\n",
    "    \n",
    "    ur = (\n",
    "        0.5 * (grid[n-1][2:M+1] + grid[n-1][1:M-1+1]) - \n",
    "        dt / 2 / h * (grid[n-1][2:M+1]**2 / 2 - grid[n-1][1:M-1+1]**2 / 2)\n",
    "    )\n",
    "    \n",
    "    ul = (\n",
    "        0.5 * (grid[n-1][1:M-1+1] + grid[n-1][0:M-2+1]) - \n",
    "        dt / 2 / h * (grid[n-1][1:M-1+1]**2 / 2 - grid[n-1][0:M-2+1]**2 / 2)\n",
    "    )\n",
    "    \n",
    "    grid[n][1:M-1+1] = (\n",
    "        grid[n-1][1:M-1+1] - \n",
    "        dt / h * (ur**2 / 2 - ul**2 / 2)\n",
    "    )\n",
    "    \n",
    "    return grid"
   ]
  },
  {
   "cell_type": "code",
   "execution_count": 385,
   "metadata": {
    "collapsed": true
   },
   "outputs": [],
   "source": [
    "def inner_update_maccormack(grid, n, h, dt):\n",
    "    if (n >= N):\n",
    "        return grid\n",
    "    \n",
    "    a = 1\n",
    "    \n",
    "    um = (\n",
    "        grid[n-1][1:M-1+1] - \n",
    "        a * dt / h * (grid[n-1][1:M-1+1]**2 / 2 - grid[n-1][0:M-2+1]**2 / 2)\n",
    "    )\n",
    "    \n",
    "    ur = (\n",
    "        grid[n-1][2:M+1] -  \n",
    "        a * dt / h * (grid[n-1][2:M+1]**2 / 2 - grid[n-1][1:M-1+1]**2 / 2)\n",
    "    )\n",
    "    \n",
    "    grid[n][1:M-1+1] = (\n",
    "        0.5 * (grid[n-1][1:M-1+1] + um) - \n",
    "        a * dt / h * (ur**2 / 2 - um**2 / 2)\n",
    "    )\n",
    "    \n",
    "    return grid"
   ]
  },
  {
   "cell_type": "markdown",
   "metadata": {},
   "source": [
    "### 1. 'Silly'"
   ]
  },
  {
   "cell_type": "code",
   "execution_count": 386,
   "metadata": {
    "collapsed": false
   },
   "outputs": [],
   "source": [
    "f = f1\n",
    "grid = grid_init(f, h, dt)"
   ]
  },
  {
   "cell_type": "code",
   "execution_count": null,
   "metadata": {
    "collapsed": true
   },
   "outputs": [],
   "source": [
    "# u(1, x)\n",
    "grid[1] = np.array([f.subs(z, i*h) * (1 - f.diff(z).subs(z, i*h) * dt)\n",
    "           for i in range(M+1)])\n",
    "grid = outer_update(grid, 1, h, dt)\n",
    "\n",
    "for n in range(2, N+1):\n",
    "    grid = inner_update_silly(grid, n, h, dt)\n",
    "    grid = outer_update(grid, n, h, dt)"
   ]
  },
  {
   "cell_type": "raw",
   "metadata": {},
   "source": [
    "time_moments = np.array([0, 1, 2, 3, 4, 5, 5.2]) * 0.2"
   ]
  },
  {
   "cell_type": "code",
   "execution_count": null,
   "metadata": {
    "collapsed": true
   },
   "outputs": [],
   "source": [
    "file_name = '1.silly.cour{0}.f{1}{2}.eps'.format(\n",
    "    ''.join(str('{0:.1f}'.format(cour)).split('.')),\n",
    "    1,\n",
    "    ''.join(str('{0:.3f}'.format(h)).split('.'))[1:]\n",
    ")\n",
    "\n",
    "generate_plot(grid, file_name)\n",
    "\n",
    "print('Saved as ' + file_name)"
   ]
  },
  {
   "cell_type": "raw",
   "metadata": {
    "collapsed": false
   },
   "source": [
    "generate_presentation_plot(grid, '1.silly.f1.025.eps')"
   ]
  },
  {
   "cell_type": "markdown",
   "metadata": {},
   "source": [
    "### 2. Lax"
   ]
  },
  {
   "cell_type": "code",
   "execution_count": 389,
   "metadata": {
    "collapsed": false
   },
   "outputs": [],
   "source": [
    "f = f1\n",
    "grid = grid_init(f, h, dt)"
   ]
  },
  {
   "cell_type": "code",
   "execution_count": 390,
   "metadata": {
    "collapsed": false
   },
   "outputs": [],
   "source": [
    "for n in range(1, N+1):\n",
    "    grid = inner_update_lax(grid, n, h, dt)\n",
    "    grid = outer_update(grid, n, h, dt)"
   ]
  },
  {
   "cell_type": "raw",
   "metadata": {
    "collapsed": true
   },
   "source": [
    "time_moments = np.array([0, 1, 2, 3, 4, 5, 5.2]) * 0.2"
   ]
  },
  {
   "cell_type": "code",
   "execution_count": null,
   "metadata": {
    "collapsed": true
   },
   "outputs": [],
   "source": [
    "file_name = '2.lax.cour{0}.f{1}{2}.eps'.format(\n",
    "    ''.join(str('{0:.1f}'.format(cour)).split('.')),\n",
    "    1,\n",
    "    ''.join(str('{0:.3f}'.format(h)).split('.'))[1:]\n",
    ")\n",
    "\n",
    "generate_plot(grid, file_name)\n",
    "\n",
    "print('Saved as ' + file_name)"
   ]
  },
  {
   "cell_type": "raw",
   "metadata": {
    "collapsed": false
   },
   "source": [
    "generate_presentation_plot(grid, '2.lax.f1.025.eps')"
   ]
  },
  {
   "cell_type": "markdown",
   "metadata": {},
   "source": [
    "### 3. Courant, Isaacson, Rees (CIR)"
   ]
  },
  {
   "cell_type": "code",
   "execution_count": 392,
   "metadata": {
    "collapsed": false
   },
   "outputs": [],
   "source": [
    "f = f1\n",
    "grid = grid_init(f, h, dt)"
   ]
  },
  {
   "cell_type": "code",
   "execution_count": 393,
   "metadata": {
    "collapsed": false
   },
   "outputs": [],
   "source": [
    "for n in range(1, N+1):\n",
    "    grid = inner_update_cir(grid, n, h, dt)\n",
    "    grid = outer_update(grid, n, h, dt)"
   ]
  },
  {
   "cell_type": "code",
   "execution_count": null,
   "metadata": {
    "collapsed": true
   },
   "outputs": [],
   "source": [
    "file_name = '3.cir.cour{0}.f{1}{2}.eps'.format(\n",
    "    ''.join(str('{0:.1f}'.format(cour)).split('.')),\n",
    "    1,\n",
    "    ''.join(str('{0:.3f}'.format(h)).split('.'))[1:]\n",
    ")\n",
    "\n",
    "generate_plot(grid, file_name)\n",
    "\n",
    "print('Saved as ' + file_name)"
   ]
  },
  {
   "cell_type": "raw",
   "metadata": {
    "collapsed": false
   },
   "source": [
    "generate_presentation_plot(grid, '3.cir.f1.025.eps')"
   ]
  },
  {
   "cell_type": "markdown",
   "metadata": {},
   "source": [
    "### 4. Lax-Vendroff"
   ]
  },
  {
   "cell_type": "code",
   "execution_count": 395,
   "metadata": {
    "collapsed": false
   },
   "outputs": [],
   "source": [
    "f = f2\n",
    "grid = grid_init(f, h, dt)"
   ]
  },
  {
   "cell_type": "code",
   "execution_count": null,
   "metadata": {
    "collapsed": true
   },
   "outputs": [],
   "source": [
    "for n in range(1, N+1):\n",
    "    grid = inner_update_lax_vendroff(grid, n, h, dt)\n",
    "    grid = outer_update(grid, n, h, dt)"
   ]
  },
  {
   "cell_type": "raw",
   "metadata": {
    "collapsed": true
   },
   "source": [
    "time_moments = np.array([0, 1, 1.2, 1.5, 1.6]) * 0.2"
   ]
  },
  {
   "cell_type": "code",
   "execution_count": null,
   "metadata": {
    "collapsed": true
   },
   "outputs": [],
   "source": [
    "file_name = '4.lax-vendroff.cour{0}.f{1}{2}.eps'.format(\n",
    "    ''.join(str('{0:.1f}'.format(cour)).split('.')),\n",
    "    2,\n",
    "    ''.join(str('{0:.3f}'.format(h)).split('.'))[1:]\n",
    ")\n",
    "\n",
    "generate_plot(grid, file_name)\n",
    "\n",
    "print('Saved as ' + file_name)"
   ]
  },
  {
   "cell_type": "raw",
   "metadata": {
    "collapsed": false
   },
   "source": [
    "generate_presentation_plot(grid, '4.lax-vendroff.f1.025.eps')"
   ]
  },
  {
   "cell_type": "markdown",
   "metadata": {},
   "source": [
    "### 5. MacCormack"
   ]
  },
  {
   "cell_type": "code",
   "execution_count": 398,
   "metadata": {
    "collapsed": false
   },
   "outputs": [],
   "source": [
    "f = f2\n",
    "grid = grid_init(f, h, dt)"
   ]
  },
  {
   "cell_type": "code",
   "execution_count": null,
   "metadata": {
    "collapsed": true
   },
   "outputs": [],
   "source": [
    "for n in range(1, N+1):\n",
    "    grid = inner_update_maccormack(grid, n, h, dt)\n",
    "    grid = outer_update(grid, n, h, dt)"
   ]
  },
  {
   "cell_type": "raw",
   "metadata": {
    "collapsed": true
   },
   "source": [
    "time_moments = np.array([0, 0.2, 0.4, 0.5, 0.55, 0.6]) * 0.2"
   ]
  },
  {
   "cell_type": "code",
   "execution_count": null,
   "metadata": {
    "collapsed": true
   },
   "outputs": [],
   "source": [
    "file_name = '5.maccormack.cour{0}.f{1}{2}.eps'.format(\n",
    "    ''.join(str('{0:.1f}'.format(cour)).split('.')),\n",
    "    2,\n",
    "    ''.join(str('{0:.3f}'.format(h)).split('.'))[1:]\n",
    ")\n",
    "\n",
    "generate_plot(grid, file_name)\n",
    "\n",
    "print('Saved as ' + file_name)"
   ]
  },
  {
   "cell_type": "raw",
   "metadata": {
    "collapsed": false
   },
   "source": [
    "generate_presentation_plot(grid, '5.maccormack.f1.025.eps')"
   ]
  }
 ],
 "metadata": {
  "kernelspec": {
   "display_name": "Python 3",
   "language": "python",
   "name": "python3"
  },
  "language_info": {
   "codemirror_mode": {
    "name": "ipython",
    "version": 3
   },
   "file_extension": ".py",
   "mimetype": "text/x-python",
   "name": "python",
   "nbconvert_exporter": "python",
   "pygments_lexer": "ipython3",
   "version": "3.6.0"
  }
 },
 "nbformat": 4,
 "nbformat_minor": 2
}
